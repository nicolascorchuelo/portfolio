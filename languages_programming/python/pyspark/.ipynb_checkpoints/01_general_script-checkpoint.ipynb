{
 "cells": [
  {
   "cell_type": "code",
   "execution_count": 2,
   "id": "f780ba56-0b1d-4c84-808a-cf460fccfc66",
   "metadata": {
    "tags": []
   },
   "outputs": [],
   "source": [
    "%load_ext sql"
   ]
  },
  {
   "cell_type": "code",
   "execution_count": 4,
   "id": "ccfb5899-81ae-4322-a261-dea2f9d6f8e0",
   "metadata": {
    "tags": []
   },
   "outputs": [],
   "source": [
    "%sql sqlite:///foo.db"
   ]
  },
  {
   "cell_type": "code",
   "execution_count": 5,
   "id": "d7d5854f-6a38-4296-add5-23f25b42f3ad",
   "metadata": {
    "tags": []
   },
   "outputs": [
    {
     "name": "stdout",
     "output_type": "stream",
     "text": [
      " * sqlite:///foo.db\n",
      "Done.\n"
     ]
    },
    {
     "data": {
      "text/plain": [
       "[]"
      ]
     },
     "execution_count": 5,
     "metadata": {},
     "output_type": "execute_result"
    }
   ],
   "source": [
    "%%sql\n",
    " create table config_test(name varchar(20), value int) "
   ]
  },
  {
   "cell_type": "code",
   "execution_count": 6,
   "id": "2a2c8847-d0b2-484d-a18d-9b4362b0004f",
   "metadata": {
    "tags": []
   },
   "outputs": [
    {
     "name": "stdout",
     "output_type": "stream",
     "text": [
      " * sqlite:///foo.db\n",
      "1 rows affected.\n",
      "1 rows affected.\n",
      "1 rows affected.\n"
     ]
    },
    {
     "data": {
      "text/plain": [
       "[]"
      ]
     },
     "execution_count": 6,
     "metadata": {},
     "output_type": "execute_result"
    }
   ],
   "source": [
    "%%sql\n",
    "insert into config_test values(\"sandeep\", 20);\n",
    "insert into config_test values(\"sandeep\", 30);\n",
    "insert into config_test values(\"giri\", 10)"
   ]
  },
  {
   "cell_type": "code",
   "execution_count": 32,
   "id": "b680d7ce-6f24-4e26-91f8-b2ca49f6af99",
   "metadata": {
    "tags": []
   },
   "outputs": [
    {
     "name": "stdout",
     "output_type": "stream",
     "text": [
      " * sqlite:///foo.db\n",
      "Done.\n"
     ]
    },
    {
     "data": {
      "text/html": [
       "<table>\n",
       "    <thead>\n",
       "        <tr>\n",
       "            <th>name</th>\n",
       "            <th>value</th>\n",
       "        </tr>\n",
       "    </thead>\n",
       "    <tbody>\n",
       "        <tr>\n",
       "            <td>sandeep</td>\n",
       "            <td>20</td>\n",
       "        </tr>\n",
       "        <tr>\n",
       "            <td>sandeep</td>\n",
       "            <td>30</td>\n",
       "        </tr>\n",
       "        <tr>\n",
       "            <td>giri</td>\n",
       "            <td>10</td>\n",
       "        </tr>\n",
       "    </tbody>\n",
       "</table>"
      ],
      "text/plain": [
       "[('sandeep', 20), ('sandeep', 30), ('giri', 10)]"
      ]
     },
     "execution_count": 32,
     "metadata": {},
     "output_type": "execute_result"
    }
   ],
   "source": [
    "%%sql\n",
    "select * from config_test"
   ]
  },
  {
   "cell_type": "code",
   "execution_count": 50,
   "id": "f0b1f379-b791-483a-b5be-a114608ed9b1",
   "metadata": {
    "tags": []
   },
   "outputs": [
    {
     "name": "stdout",
     "output_type": "stream",
     "text": [
      "/Users/nicolascorchuelo/Documents/projects/portfolio/languages_programming/python/pyspark/foo.db\n"
     ]
    }
   ],
   "source": [
    "import sqlite3\n",
    "\n",
    "# Establecer conexión a la base de datos SQLite\n",
    "conexion = sqlite3.connect('foo.db')\n",
    "\n",
    "# Obtener la ruta de la base de datos\n",
    "cursor = conexion.cursor()\n",
    "cursor.execute(\"PRAGMA database_list;\")\n",
    "rows = cursor.fetchall()\n",
    "for row in rows:\n",
    "    print(row[2])  # Ruta de la base de datos\n"
   ]
  },
  {
   "cell_type": "code",
   "execution_count": 8,
   "id": "f7ee9b8b-4192-45f0-9995-a087d355562f",
   "metadata": {
    "tags": []
   },
   "outputs": [],
   "source": [
    "from pyspark.sql import SparkSession\n",
    "from pyspark.sql.functions import col"
   ]
  },
  {
   "cell_type": "code",
   "execution_count": 52,
   "id": "70670143-990c-4352-a88d-c58f19638020",
   "metadata": {
    "tags": []
   },
   "outputs": [],
   "source": [
    "sample_data = [{\"name\": \"John    D.\", \"value\": 30},\n",
    "  {\"name\": \"Alice   G.\", \"value\": 25},\n",
    "  {\"name\": \"Bob  T.\", \"value\": 35},\n",
    "  {\"name\": \"Eve   A.\", \"value\": 28}]\n",
    "\n",
    "df_write = spark.createDataFrame(sample_data)"
   ]
  },
  {
   "cell_type": "code",
   "execution_count": 83,
   "id": "485c13be-abd8-4b44-80af-9be62deaf41c",
   "metadata": {
    "tags": []
   },
   "outputs": [
    {
     "name": "stdout",
     "output_type": "stream",
     "text": [
      "+----------+-----+\n",
      "|      name|value|\n",
      "+----------+-----+\n",
      "|John    D.|   30|\n",
      "|Alice   G.|   25|\n",
      "|   Bob  T.|   35|\n",
      "|  Eve   A.|   28|\n",
      "+----------+-----+\n",
      "\n"
     ]
    }
   ],
   "source": [
    "df_write.show()"
   ]
  },
  {
   "cell_type": "code",
   "execution_count": 19,
   "id": "9b91eb36-1ac7-4fe6-944d-9dd4f8e5011c",
   "metadata": {
    "tags": []
   },
   "outputs": [],
   "source": [
    "temp_table_name = \"file_table\"\n",
    "\n",
    "df.createOrReplaceTempView(temp_table_name)"
   ]
  },
  {
   "cell_type": "code",
   "execution_count": 26,
   "id": "1abd8529-8d0a-437a-b13c-67b4db356ea3",
   "metadata": {
    "tags": []
   },
   "outputs": [
    {
     "name": "stdout",
     "output_type": "stream",
     "text": [
      " * sqlite:///foo.db\n",
      "(sqlite3.OperationalError) no such table: file_table\n",
      "[SQL: SELECT * FROM `file_table`]\n",
      "(Background on this error at: https://sqlalche.me/e/20/e3q8)\n"
     ]
    }
   ],
   "source": [
    "%%sql\n",
    "SELECT * FROM `file_table`"
   ]
  },
  {
   "cell_type": "code",
   "execution_count": 85,
   "id": "a589d19a-168c-49b1-b3c7-833ba08ce94e",
   "metadata": {
    "tags": []
   },
   "outputs": [
    {
     "name": "stdout",
     "output_type": "stream",
     "text": [
      "root\n",
      " |-- name: string (nullable = true)\n",
      " |-- value: long (nullable = true)\n",
      "\n",
      "+----------+-----+\n",
      "|      name|value|\n",
      "+----------+-----+\n",
      "|   sandeep|   20|\n",
      "|   sandeep|   30|\n",
      "|      giri|   10|\n",
      "|John    D.|   30|\n",
      "|Alice   G.|   25|\n",
      "|   Bob  T.|   35|\n",
      "|  Eve   A.|   28|\n",
      "+----------+-----+\n",
      "\n"
     ]
    }
   ],
   "source": [
    "db_path = \"/Users/nicolascorchuelo/Documents/projects/portfolio/languages_programming/python/pyspark/foo.db\"\n",
    "\n",
    "table_name = \"config_test\"\n",
    "\n",
    "conn = sqlite3.connect(db_path)\n",
    "\n",
    "# Leer datos desde la tabla SQLite\n",
    "query = f\"SELECT * FROM {table_name}\"\n",
    "cursor = conn.cursor()\n",
    "cursor.execute(query)\n",
    "\n",
    "# Obtener las filas de la tabla SQLite\n",
    "rows = cursor.fetchall()\n",
    "\n",
    "# Obtener los nombres de columna de la tabla\n",
    "column_names = [description[0] for description in cursor.description]\n",
    "\n",
    "# Crear DataFrame de PySpark a partir de los datos obtenidos\n",
    "df = spark.createDataFrame(rows, schema=column_names)\n",
    "\n",
    "# Mostrar el esquema del DataFrame y algunos datos de muestra\n",
    "df.printSchema()\n",
    "df.show()\n",
    "\n",
    "# Cerrar la conexión con la base de datos SQLite\n",
    "conn.close()"
   ]
  },
  {
   "cell_type": "code",
   "execution_count": 84,
   "id": "4bea51a8-214e-4acb-a118-5e434d8cb582",
   "metadata": {
    "tags": []
   },
   "outputs": [],
   "source": [
    "# Obtener los datos del DataFrame como una lista de tuplas\n",
    "data = df_write.collect()\n",
    "\n",
    "# Obtener los nombres de columna del DataFrame\n",
    "columns = df_write.columns\n",
    "\n",
    "# Establecer conexión a la base de datos SQLite\n",
    "conn = sqlite3.connect(db_path)\n",
    "cursor = conn.cursor()\n",
    "\n",
    "# Crear la tabla si no existe\n",
    "create_table_query = f\"CREATE TABLE IF NOT EXISTS {table_name} ({', '.join(columns)})\"\n",
    "cursor.execute(create_table_query)\n",
    "\n",
    "# Insertar los datos en la tabla\n",
    "insert_query = f\"INSERT INTO {table_name} VALUES ({', '.join(['?'] * len(columns))})\"\n",
    "cursor.executemany(insert_query, data)\n",
    "\n",
    "# Confirmar la transacción y cerrar la conexión\n",
    "conn.commit()\n",
    "conn.close()"
   ]
  },
  {
   "cell_type": "code",
   "execution_count": null,
   "id": "3ec48d6d-c48a-4bd4-ab5c-f9ed7847417b",
   "metadata": {},
   "outputs": [],
   "source": []
  }
 ],
 "metadata": {
  "kernelspec": {
   "display_name": "Python 3 (ipykernel)",
   "language": "python",
   "name": "python3"
  },
  "language_info": {
   "codemirror_mode": {
    "name": "ipython",
    "version": 3
   },
   "file_extension": ".py",
   "mimetype": "text/x-python",
   "name": "python",
   "nbconvert_exporter": "python",
   "pygments_lexer": "ipython3",
   "version": "3.11.5"
  }
 },
 "nbformat": 4,
 "nbformat_minor": 5
}
