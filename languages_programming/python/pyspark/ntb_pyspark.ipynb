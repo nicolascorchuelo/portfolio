{
 "cells": [
  {
   "cell_type": "code",
   "execution_count": 10,
   "id": "94698e70-7a65-4a57-a774-869ac71b1401",
   "metadata": {
    "tags": []
   },
   "outputs": [],
   "source": [
    "from pyspark.sql import SparkSession\n",
    "from pyspark.sql import functions as F\n",
    "from pyspark.sql.types import StructType, StructField, StringType\n",
    "from pyspark.sql.functions import concat_ws, col, when,lit,concat,monotonically_increasing_id"
   ]
  },
  {
   "cell_type": "code",
   "execution_count": 4,
   "id": "c4ca52e1-7bcf-4e31-b656-b02d45c3125f",
   "metadata": {
    "tags": []
   },
   "outputs": [
    {
     "name": "stderr",
     "output_type": "stream",
     "text": [
      "24/03/31 19:34:35 WARN SparkSession: Using an existing Spark session; only runtime SQL configurations will take effect.\n"
     ]
    }
   ],
   "source": [
    "spark = SparkSession.builder \\\n",
    "    .appName('AppyLogicalinDataframe') \\\n",
    "    .getOrCreate()"
   ]
  },
  {
   "cell_type": "code",
   "execution_count": 5,
   "id": "d02ae725-46a6-43f3-9dfe-9f92f0651403",
   "metadata": {},
   "outputs": [],
   "source": [
    "spark.conf.set(\"spark.sql.repl.eagerEval.enabled\", True)\n",
    "spark.conf.set(\"spark.sql.repl.eagerEval.maxNumRows\", 1000)\n",
    "spark.conf.set(\"spark.sql.repl.eagerEval.truncate\", 1000)"
   ]
  },
  {
   "cell_type": "code",
   "execution_count": 3,
   "id": "0a753f37-07b8-474e-b0c3-89e927272ac8",
   "metadata": {
    "tags": []
   },
   "outputs": [
    {
     "data": {
      "text/plain": [
       "DataFrame[COLUMN1: string, COLUMN2: string, COLUMN3: string, COLUMN4: string, DATOS_BASICOS: string]"
      ]
     },
     "execution_count": 3,
     "metadata": {},
     "output_type": "execute_result"
    }
   ],
   "source": [
    "schema = StructType([\n",
    "    StructField(\"COLUMN1\", StringType(), True),\n",
    "    StructField(\"COLUMN2\", StringType(), True),\n",
    "    StructField(\"COLUMN3\", StringType(), True),\n",
    "    StructField(\"COLUMN4\", StringType(), True),\n",
    "    StructField(\"DATOS_BASICOS\", StringType(), True)\n",
    "])\n",
    "\n",
    "# Create data\n",
    "data = [(\"CAMILA OR MARTIN OR PEDRO OR PEPE OR GLORIA CHOMALI,OR TERESA CHOMALI\",\"OR LUISA OR CARMEN OR\",\"ALEJANDRA\",\"AV CARMEN\",\"INFORMACION PERSONAL\"),\n",
    "        (\"CAMILA OR MARTIN\",\"AV 1\",\"AV 2\",\"AV CARMEN\",\"INFORMACION PERSONAL\")]\n",
    "\n",
    "# Create DataFrame\n",
    "df = spark.createDataFrame(data, schema=schema)\n",
    "\n",
    "# Show DataFrame\n",
    "df"
   ]
  },
  {
   "cell_type": "code",
   "execution_count": 6,
   "id": "e7831e0b-5cb0-42a5-8986-b110ff1319ec",
   "metadata": {
    "tags": []
   },
   "outputs": [
    {
     "name": "stderr",
     "output_type": "stream",
     "text": [
      "                                                                                \r"
     ]
    },
    {
     "data": {
      "text/html": [
       "<table border='1'>\n",
       "<tr><th>COLUMN1</th><th>COLUMN2</th><th>COLUMN3</th><th>COLUMN4</th><th>DATOS_BASICOS</th></tr>\n",
       "<tr><td>CAMILA OR MARTIN OR PEDRO OR PEPE OR GLORIA CHOMALI,OR TERESA CHOMALI</td><td>OR LUISA OR CARMEN OR</td><td>ALEJANDRA</td><td>AV CARMEN</td><td>INFORMACION PERSONAL</td></tr>\n",
       "<tr><td>CAMILA OR MARTIN</td><td>AV 1</td><td>AV 2</td><td>AV CARMEN</td><td>INFORMACION PERSONAL</td></tr>\n",
       "</table>\n"
      ],
      "text/plain": [
       "DataFrame[COLUMN1: string, COLUMN2: string, COLUMN3: string, COLUMN4: string, DATOS_BASICOS: string]"
      ]
     },
     "execution_count": 6,
     "metadata": {},
     "output_type": "execute_result"
    }
   ],
   "source": [
    "df"
   ]
  },
  {
   "cell_type": "code",
   "execution_count": 7,
   "id": "d1c750e2-cb7e-4b9b-801e-ba0bc846664f",
   "metadata": {
    "tags": []
   },
   "outputs": [],
   "source": [
    "column_names = [\"COLUMN1\",\"COLUMN2\",\"COLUMN3\",\"COLUMN4\"]\n",
    "df = df.withColumn(\"ID\",monotonically_increasing_id())"
   ]
  },
  {
   "cell_type": "code",
   "execution_count": 353,
   "id": "d78a9977-6f8a-4e5f-a193-f711ef8a388e",
   "metadata": {
    "tags": []
   },
   "outputs": [],
   "source": [
    "for i in range(2, len(column_names)):\n",
    "    prev_col = column_names[i-1]\n",
    "    current_col = column_names[i]\n",
    "    df = df.withColumn(current_col, F.when(F.col(prev_col).rlike(\".*OR$\"), F.concat(F.lit('OR '), F.col(current_col))).otherwise(F.col(current_col)))"
   ]
  },
  {
   "cell_type": "code",
   "execution_count": 11,
   "id": "f05a7b34-b6db-491c-bd5e-0be6974fb23e",
   "metadata": {
    "tags": []
   },
   "outputs": [],
   "source": [
    "df = df.withColumn(\"LISTA_CLIENTES\", F.lit(''))\n",
    "\n",
    "for i in column_names:\n",
    "    df = df.withColumn(\"LISTA_CLIENTES\", F.when(F.col(i).rlike(\".*OR.*\"), F.concat(F.col(\"LISTA_CLIENTES\"), F.col(i), F.lit(' '))).otherwise(F.col(\"LISTA_CLIENTES\")))"
   ]
  },
  {
   "cell_type": "code",
   "execution_count": 13,
   "id": "5e0b2174-731a-4f92-9398-171dfd012cfa",
   "metadata": {
    "tags": []
   },
   "outputs": [],
   "source": [
    "df = df.withColumn(\"LISTA_CLIENTES\", F.regexp_replace(F.col(\"LISTA_CLIENTES\"), \",OR\", \" OR\"))"
   ]
  },
  {
   "cell_type": "code",
   "execution_count": 14,
   "id": "f1ac953d-e9df-4323-8edc-bb47361e97ad",
   "metadata": {
    "tags": []
   },
   "outputs": [
    {
     "data": {
      "text/html": [
       "<table border='1'>\n",
       "<tr><th>COLUMN1</th><th>COLUMN2</th><th>COLUMN3</th><th>COLUMN4</th><th>DATOS_BASICOS</th><th>ID</th><th>LISTA_CLIENTES</th></tr>\n",
       "<tr><td>CAMILA OR MARTIN OR PEDRO OR PEPE OR GLORIA CHOMALI,OR TERESA CHOMALI</td><td>OR LUISA OR CARMEN OR</td><td>ALEJANDRA</td><td>AV CARMEN</td><td>INFORMACION PERSONAL</td><td>25769803776</td><td>CAMILA OR MARTIN OR PEDRO OR PEPE OR GLORIA CHOMALI OR TERESA CHOMALI OR LUISA OR CARMEN OR </td></tr>\n",
       "<tr><td>CAMILA OR MARTIN</td><td>AV 1</td><td>AV 2</td><td>AV CARMEN</td><td>INFORMACION PERSONAL</td><td>60129542144</td><td>CAMILA OR MARTIN </td></tr>\n",
       "</table>\n"
      ],
      "text/plain": [
       "+---------------------------------------------------------------------+---------------------+---------+---------+--------------------+-----------+--------------------------------------------------------------------------------------------+\n",
       "|                                                              COLUMN1|              COLUMN2|  COLUMN3|  COLUMN4|       DATOS_BASICOS|         ID|                                                                              LISTA_CLIENTES|\n",
       "+---------------------------------------------------------------------+---------------------+---------+---------+--------------------+-----------+--------------------------------------------------------------------------------------------+\n",
       "|CAMILA OR MARTIN OR PEDRO OR PEPE OR GLORIA CHOMALI,OR TERESA CHOMALI|OR LUISA OR CARMEN OR|ALEJANDRA|AV CARMEN|INFORMACION PERSONAL|25769803776|CAMILA OR MARTIN OR PEDRO OR PEPE OR GLORIA CHOMALI OR TERESA CHOMALI OR LUISA OR CARMEN OR |\n",
       "|                                                     CAMILA OR MARTIN|                 AV 1|     AV 2|AV CARMEN|INFORMACION PERSONAL|60129542144|                                                                           CAMILA OR MARTIN |\n",
       "+---------------------------------------------------------------------+---------------------+---------+---------+--------------------+-----------+--------------------------------------------------------------------------------------------+"
      ]
     },
     "execution_count": 14,
     "metadata": {},
     "output_type": "execute_result"
    }
   ],
   "source": [
    "df"
   ]
  },
  {
   "cell_type": "code",
   "execution_count": 15,
   "id": "9866b6da-8dd7-4b2c-917f-482a7eefc7b5",
   "metadata": {
    "tags": []
   },
   "outputs": [],
   "source": [
    "df = df.withColumn(\"LISTA_CLIENTES\", F.split(F.col(\"LISTA_CLIENTES\"), \" OR \"))"
   ]
  },
  {
   "cell_type": "code",
   "execution_count": 303,
   "id": "d18b2fe2-3df3-41e2-802e-69cec94cc95c",
   "metadata": {
    "tags": []
   },
   "outputs": [],
   "source": [
    "#df = df.withColumn(\"LISTA_CLIENTES\", F.explode(F.col(\"LISTA_CLIENTES\")))"
   ]
  },
  {
   "cell_type": "code",
   "execution_count": 16,
   "id": "4f99c0d8-d142-4140-bded-17c1648cbf01",
   "metadata": {
    "tags": []
   },
   "outputs": [],
   "source": [
    "df = df.select(\"*\", F.posexplode(F.col(\"LISTA_CLIENTES\")).alias(\"CONSECUTIVO\", \"CLIENTE\"))"
   ]
  },
  {
   "cell_type": "code",
   "execution_count": 17,
   "id": "478aed7e-30f4-4ebf-a06a-3fba87b9b4c0",
   "metadata": {
    "tags": []
   },
   "outputs": [
    {
     "data": {
      "text/html": [
       "<table border='1'>\n",
       "<tr><th>COLUMN1</th><th>COLUMN2</th><th>COLUMN3</th><th>COLUMN4</th><th>DATOS_BASICOS</th><th>ID</th><th>LISTA_CLIENTES</th><th>CONSECUTIVO</th><th>CLIENTE</th></tr>\n",
       "<tr><td>CAMILA OR MARTIN OR PEDRO OR PEPE OR GLORIA CHOMALI,OR TERESA CHOMALI</td><td>OR LUISA OR CARMEN OR</td><td>ALEJANDRA</td><td>AV CARMEN</td><td>INFORMACION PERSONAL</td><td>25769803776</td><td>[CAMILA, MARTIN, PEDRO, PEPE, GLORIA CHOMALI, TERESA CHOMALI, LUISA, CARMEN, ]</td><td>0</td><td>CAMILA</td></tr>\n",
       "<tr><td>CAMILA OR MARTIN OR PEDRO OR PEPE OR GLORIA CHOMALI,OR TERESA CHOMALI</td><td>OR LUISA OR CARMEN OR</td><td>ALEJANDRA</td><td>AV CARMEN</td><td>INFORMACION PERSONAL</td><td>25769803776</td><td>[CAMILA, MARTIN, PEDRO, PEPE, GLORIA CHOMALI, TERESA CHOMALI, LUISA, CARMEN, ]</td><td>1</td><td>MARTIN</td></tr>\n",
       "<tr><td>CAMILA OR MARTIN OR PEDRO OR PEPE OR GLORIA CHOMALI,OR TERESA CHOMALI</td><td>OR LUISA OR CARMEN OR</td><td>ALEJANDRA</td><td>AV CARMEN</td><td>INFORMACION PERSONAL</td><td>25769803776</td><td>[CAMILA, MARTIN, PEDRO, PEPE, GLORIA CHOMALI, TERESA CHOMALI, LUISA, CARMEN, ]</td><td>2</td><td>PEDRO</td></tr>\n",
       "<tr><td>CAMILA OR MARTIN OR PEDRO OR PEPE OR GLORIA CHOMALI,OR TERESA CHOMALI</td><td>OR LUISA OR CARMEN OR</td><td>ALEJANDRA</td><td>AV CARMEN</td><td>INFORMACION PERSONAL</td><td>25769803776</td><td>[CAMILA, MARTIN, PEDRO, PEPE, GLORIA CHOMALI, TERESA CHOMALI, LUISA, CARMEN, ]</td><td>3</td><td>PEPE</td></tr>\n",
       "<tr><td>CAMILA OR MARTIN OR PEDRO OR PEPE OR GLORIA CHOMALI,OR TERESA CHOMALI</td><td>OR LUISA OR CARMEN OR</td><td>ALEJANDRA</td><td>AV CARMEN</td><td>INFORMACION PERSONAL</td><td>25769803776</td><td>[CAMILA, MARTIN, PEDRO, PEPE, GLORIA CHOMALI, TERESA CHOMALI, LUISA, CARMEN, ]</td><td>4</td><td>GLORIA CHOMALI</td></tr>\n",
       "<tr><td>CAMILA OR MARTIN OR PEDRO OR PEPE OR GLORIA CHOMALI,OR TERESA CHOMALI</td><td>OR LUISA OR CARMEN OR</td><td>ALEJANDRA</td><td>AV CARMEN</td><td>INFORMACION PERSONAL</td><td>25769803776</td><td>[CAMILA, MARTIN, PEDRO, PEPE, GLORIA CHOMALI, TERESA CHOMALI, LUISA, CARMEN, ]</td><td>5</td><td>TERESA CHOMALI</td></tr>\n",
       "<tr><td>CAMILA OR MARTIN OR PEDRO OR PEPE OR GLORIA CHOMALI,OR TERESA CHOMALI</td><td>OR LUISA OR CARMEN OR</td><td>ALEJANDRA</td><td>AV CARMEN</td><td>INFORMACION PERSONAL</td><td>25769803776</td><td>[CAMILA, MARTIN, PEDRO, PEPE, GLORIA CHOMALI, TERESA CHOMALI, LUISA, CARMEN, ]</td><td>6</td><td>LUISA</td></tr>\n",
       "<tr><td>CAMILA OR MARTIN OR PEDRO OR PEPE OR GLORIA CHOMALI,OR TERESA CHOMALI</td><td>OR LUISA OR CARMEN OR</td><td>ALEJANDRA</td><td>AV CARMEN</td><td>INFORMACION PERSONAL</td><td>25769803776</td><td>[CAMILA, MARTIN, PEDRO, PEPE, GLORIA CHOMALI, TERESA CHOMALI, LUISA, CARMEN, ]</td><td>7</td><td>CARMEN</td></tr>\n",
       "<tr><td>CAMILA OR MARTIN OR PEDRO OR PEPE OR GLORIA CHOMALI,OR TERESA CHOMALI</td><td>OR LUISA OR CARMEN OR</td><td>ALEJANDRA</td><td>AV CARMEN</td><td>INFORMACION PERSONAL</td><td>25769803776</td><td>[CAMILA, MARTIN, PEDRO, PEPE, GLORIA CHOMALI, TERESA CHOMALI, LUISA, CARMEN, ]</td><td>8</td><td></td></tr>\n",
       "<tr><td>CAMILA OR MARTIN</td><td>AV 1</td><td>AV 2</td><td>AV CARMEN</td><td>INFORMACION PERSONAL</td><td>60129542144</td><td>[CAMILA, MARTIN ]</td><td>0</td><td>CAMILA</td></tr>\n",
       "<tr><td>CAMILA OR MARTIN</td><td>AV 1</td><td>AV 2</td><td>AV CARMEN</td><td>INFORMACION PERSONAL</td><td>60129542144</td><td>[CAMILA, MARTIN ]</td><td>1</td><td>MARTIN </td></tr>\n",
       "</table>\n"
      ],
      "text/plain": [
       "+---------------------------------------------------------------------+---------------------+---------+---------+--------------------+-----------+------------------------------------------------------------------------------+-----------+--------------+\n",
       "|                                                              COLUMN1|              COLUMN2|  COLUMN3|  COLUMN4|       DATOS_BASICOS|         ID|                                                                LISTA_CLIENTES|CONSECUTIVO|       CLIENTE|\n",
       "+---------------------------------------------------------------------+---------------------+---------+---------+--------------------+-----------+------------------------------------------------------------------------------+-----------+--------------+\n",
       "|CAMILA OR MARTIN OR PEDRO OR PEPE OR GLORIA CHOMALI,OR TERESA CHOMALI|OR LUISA OR CARMEN OR|ALEJANDRA|AV CARMEN|INFORMACION PERSONAL|25769803776|[CAMILA, MARTIN, PEDRO, PEPE, GLORIA CHOMALI, TERESA CHOMALI, LUISA, CARMEN, ]|          0|        CAMILA|\n",
       "|CAMILA OR MARTIN OR PEDRO OR PEPE OR GLORIA CHOMALI,OR TERESA CHOMALI|OR LUISA OR CARMEN OR|ALEJANDRA|AV CARMEN|INFORMACION PERSONAL|25769803776|[CAMILA, MARTIN, PEDRO, PEPE, GLORIA CHOMALI, TERESA CHOMALI, LUISA, CARMEN, ]|          1|        MARTIN|\n",
       "|CAMILA OR MARTIN OR PEDRO OR PEPE OR GLORIA CHOMALI,OR TERESA CHOMALI|OR LUISA OR CARMEN OR|ALEJANDRA|AV CARMEN|INFORMACION PERSONAL|25769803776|[CAMILA, MARTIN, PEDRO, PEPE, GLORIA CHOMALI, TERESA CHOMALI, LUISA, CARMEN, ]|          2|         PEDRO|\n",
       "|CAMILA OR MARTIN OR PEDRO OR PEPE OR GLORIA CHOMALI,OR TERESA CHOMALI|OR LUISA OR CARMEN OR|ALEJANDRA|AV CARMEN|INFORMACION PERSONAL|25769803776|[CAMILA, MARTIN, PEDRO, PEPE, GLORIA CHOMALI, TERESA CHOMALI, LUISA, CARMEN, ]|          3|          PEPE|\n",
       "|CAMILA OR MARTIN OR PEDRO OR PEPE OR GLORIA CHOMALI,OR TERESA CHOMALI|OR LUISA OR CARMEN OR|ALEJANDRA|AV CARMEN|INFORMACION PERSONAL|25769803776|[CAMILA, MARTIN, PEDRO, PEPE, GLORIA CHOMALI, TERESA CHOMALI, LUISA, CARMEN, ]|          4|GLORIA CHOMALI|\n",
       "|CAMILA OR MARTIN OR PEDRO OR PEPE OR GLORIA CHOMALI,OR TERESA CHOMALI|OR LUISA OR CARMEN OR|ALEJANDRA|AV CARMEN|INFORMACION PERSONAL|25769803776|[CAMILA, MARTIN, PEDRO, PEPE, GLORIA CHOMALI, TERESA CHOMALI, LUISA, CARMEN, ]|          5|TERESA CHOMALI|\n",
       "|CAMILA OR MARTIN OR PEDRO OR PEPE OR GLORIA CHOMALI,OR TERESA CHOMALI|OR LUISA OR CARMEN OR|ALEJANDRA|AV CARMEN|INFORMACION PERSONAL|25769803776|[CAMILA, MARTIN, PEDRO, PEPE, GLORIA CHOMALI, TERESA CHOMALI, LUISA, CARMEN, ]|          6|         LUISA|\n",
       "|CAMILA OR MARTIN OR PEDRO OR PEPE OR GLORIA CHOMALI,OR TERESA CHOMALI|OR LUISA OR CARMEN OR|ALEJANDRA|AV CARMEN|INFORMACION PERSONAL|25769803776|[CAMILA, MARTIN, PEDRO, PEPE, GLORIA CHOMALI, TERESA CHOMALI, LUISA, CARMEN, ]|          7|        CARMEN|\n",
       "|CAMILA OR MARTIN OR PEDRO OR PEPE OR GLORIA CHOMALI,OR TERESA CHOMALI|OR LUISA OR CARMEN OR|ALEJANDRA|AV CARMEN|INFORMACION PERSONAL|25769803776|[CAMILA, MARTIN, PEDRO, PEPE, GLORIA CHOMALI, TERESA CHOMALI, LUISA, CARMEN, ]|          8|              |\n",
       "|                                                     CAMILA OR MARTIN|                 AV 1|     AV 2|AV CARMEN|INFORMACION PERSONAL|60129542144|                                                             [CAMILA, MARTIN ]|          0|        CAMILA|\n",
       "|                                                     CAMILA OR MARTIN|                 AV 1|     AV 2|AV CARMEN|INFORMACION PERSONAL|60129542144|                                                             [CAMILA, MARTIN ]|          1|       MARTIN |\n",
       "+---------------------------------------------------------------------+---------------------+---------+---------+--------------------+-----------+------------------------------------------------------------------------------+-----------+--------------+"
      ]
     },
     "execution_count": 17,
     "metadata": {},
     "output_type": "execute_result"
    }
   ],
   "source": [
    "df"
   ]
  },
  {
   "cell_type": "code",
   "execution_count": null,
   "id": "00274e01-76cc-44e1-89ab-5857d44d8913",
   "metadata": {},
   "outputs": [],
   "source": [
    "#df = df.withColumn(\"Name\", when(col(\"Name\").endswith(\"a\"), concat(col(\"Name\"), lit(\"b\"))).otherwise(col(\"Name\")))"
   ]
  },
  {
   "cell_type": "code",
   "execution_count": 375,
   "id": "dbfd0a21-cb2d-42a6-a27d-90627b6f400e",
   "metadata": {
    "tags": []
   },
   "outputs": [],
   "source": [
    "from pyspark.sql import functions as F\n",
    "from pyspark.sql.functions import monotonically_increasing_id\n",
    "\n",
    "def process_dataframe(df, column_names):\n",
    "    df = df.withColumn(\"ID\", monotonically_increasing_id())\n",
    "\n",
    "    for i in range(2, len(column_names)):\n",
    "        prev_col = column_names[i-1]\n",
    "        current_col = column_names[i]\n",
    "        df = df.withColumn(current_col, F.when(F.col(prev_col).rlike(\".*OR$\"), F.concat(F.lit('OR '), F.col(current_col))).otherwise(F.col(current_col)))\n",
    "\n",
    "    df = df.withColumn(\"LISTA_CLIENTES\", F.lit(''))\n",
    "\n",
    "    for i in column_names:\n",
    "        df = df.withColumn(\"LISTA_CLIENTES\", F.when(F.col(i).rlike(\".*OR.*\"), F.concat(F.col(\"LISTA_CLIENTES\"), F.col(i), F.lit(' '))).otherwise(F.col(\"LISTA_CLIENTES\")))\n",
    "\n",
    "    df = df.withColumn(\"LISTA_CLIENTES\", F.regexp_replace(F.col(\"LISTA_CLIENTES\"), \"OR OR\", \"OR\"))\n",
    "\n",
    "    df = df.withColumn(\"LISTA_CLIENTES\", F.split(F.col(\"LISTA_CLIENTES\"), \" OR \"))\n",
    "\n",
    "    df = df.select(\"*\", F.posexplode(F.col(\"LISTA_CLIENTES\")).alias(\"CONSECUTIVO\", \"CLIENTE\"))\n",
    "\n",
    "    return df"
   ]
  },
  {
   "cell_type": "code",
   "execution_count": 376,
   "id": "aa9bb27b-7af1-4722-9355-4695f7ae34b8",
   "metadata": {
    "tags": []
   },
   "outputs": [],
   "source": [
    "column_names = [\"COLUMN1\",\"COLUMN2\",\"COLUMN3\",\"COLUMN4\"]\n",
    "df = process_dataframe(df, column_names)"
   ]
  },
  {
   "cell_type": "code",
   "execution_count": 377,
   "id": "b5d1c2b3-028a-4b8b-bbed-5c40b674b17f",
   "metadata": {
    "tags": []
   },
   "outputs": [
    {
     "data": {
      "text/html": [
       "<table border='1'>\n",
       "<tr><th>COLUMN1</th><th>COLUMN2</th><th>COLUMN3</th><th>COLUMN4</th><th>DATOS_BASICOS</th><th>ID</th><th>LISTA_CLIENTES</th><th>CONSECUTIVO</th><th>CLIENTE</th></tr>\n",
       "<tr><td>CAMILA OR MARTIN OR PEDRO OR PEPE</td><td>OR LUISA OR CARMEN OR</td><td>OR ALEJANDRA</td><td>AV CARMEN</td><td>INFORMACION PERSONAL</td><td>25769803776</td><td>[CAMILA, MARTIN, PEDRO, PEPE, LUISA, CARMEN, ALEJANDRA ]</td><td>0</td><td>CAMILA</td></tr>\n",
       "<tr><td>CAMILA OR MARTIN OR PEDRO OR PEPE</td><td>OR LUISA OR CARMEN OR</td><td>OR ALEJANDRA</td><td>AV CARMEN</td><td>INFORMACION PERSONAL</td><td>25769803776</td><td>[CAMILA, MARTIN, PEDRO, PEPE, LUISA, CARMEN, ALEJANDRA ]</td><td>1</td><td>MARTIN</td></tr>\n",
       "<tr><td>CAMILA OR MARTIN OR PEDRO OR PEPE</td><td>OR LUISA OR CARMEN OR</td><td>OR ALEJANDRA</td><td>AV CARMEN</td><td>INFORMACION PERSONAL</td><td>25769803776</td><td>[CAMILA, MARTIN, PEDRO, PEPE, LUISA, CARMEN, ALEJANDRA ]</td><td>2</td><td>PEDRO</td></tr>\n",
       "<tr><td>CAMILA OR MARTIN OR PEDRO OR PEPE</td><td>OR LUISA OR CARMEN OR</td><td>OR ALEJANDRA</td><td>AV CARMEN</td><td>INFORMACION PERSONAL</td><td>25769803776</td><td>[CAMILA, MARTIN, PEDRO, PEPE, LUISA, CARMEN, ALEJANDRA ]</td><td>3</td><td>PEPE</td></tr>\n",
       "<tr><td>CAMILA OR MARTIN OR PEDRO OR PEPE</td><td>OR LUISA OR CARMEN OR</td><td>OR ALEJANDRA</td><td>AV CARMEN</td><td>INFORMACION PERSONAL</td><td>25769803776</td><td>[CAMILA, MARTIN, PEDRO, PEPE, LUISA, CARMEN, ALEJANDRA ]</td><td>4</td><td>LUISA</td></tr>\n",
       "<tr><td>CAMILA OR MARTIN OR PEDRO OR PEPE</td><td>OR LUISA OR CARMEN OR</td><td>OR ALEJANDRA</td><td>AV CARMEN</td><td>INFORMACION PERSONAL</td><td>25769803776</td><td>[CAMILA, MARTIN, PEDRO, PEPE, LUISA, CARMEN, ALEJANDRA ]</td><td>5</td><td>CARMEN</td></tr>\n",
       "<tr><td>CAMILA OR MARTIN OR PEDRO OR PEPE</td><td>OR LUISA OR CARMEN OR</td><td>OR ALEJANDRA</td><td>AV CARMEN</td><td>INFORMACION PERSONAL</td><td>25769803776</td><td>[CAMILA, MARTIN, PEDRO, PEPE, LUISA, CARMEN, ALEJANDRA ]</td><td>6</td><td>ALEJANDRA </td></tr>\n",
       "<tr><td>CAMILA OR MARTIN</td><td>AV 1</td><td>AV 2</td><td>AV CARMEN</td><td>INFORMACION PERSONAL</td><td>60129542144</td><td>[CAMILA, MARTIN ]</td><td>0</td><td>CAMILA</td></tr>\n",
       "<tr><td>CAMILA OR MARTIN</td><td>AV 1</td><td>AV 2</td><td>AV CARMEN</td><td>INFORMACION PERSONAL</td><td>60129542144</td><td>[CAMILA, MARTIN ]</td><td>1</td><td>MARTIN </td></tr>\n",
       "</table>\n"
      ],
      "text/plain": [
       "+---------------------------------+---------------------+------------+---------+--------------------+-----------+--------------------------------------------------------+-----------+----------+\n",
       "|                          COLUMN1|              COLUMN2|     COLUMN3|  COLUMN4|       DATOS_BASICOS|         ID|                                          LISTA_CLIENTES|CONSECUTIVO|   CLIENTE|\n",
       "+---------------------------------+---------------------+------------+---------+--------------------+-----------+--------------------------------------------------------+-----------+----------+\n",
       "|CAMILA OR MARTIN OR PEDRO OR PEPE|OR LUISA OR CARMEN OR|OR ALEJANDRA|AV CARMEN|INFORMACION PERSONAL|25769803776|[CAMILA, MARTIN, PEDRO, PEPE, LUISA, CARMEN, ALEJANDRA ]|          0|    CAMILA|\n",
       "|CAMILA OR MARTIN OR PEDRO OR PEPE|OR LUISA OR CARMEN OR|OR ALEJANDRA|AV CARMEN|INFORMACION PERSONAL|25769803776|[CAMILA, MARTIN, PEDRO, PEPE, LUISA, CARMEN, ALEJANDRA ]|          1|    MARTIN|\n",
       "|CAMILA OR MARTIN OR PEDRO OR PEPE|OR LUISA OR CARMEN OR|OR ALEJANDRA|AV CARMEN|INFORMACION PERSONAL|25769803776|[CAMILA, MARTIN, PEDRO, PEPE, LUISA, CARMEN, ALEJANDRA ]|          2|     PEDRO|\n",
       "|CAMILA OR MARTIN OR PEDRO OR PEPE|OR LUISA OR CARMEN OR|OR ALEJANDRA|AV CARMEN|INFORMACION PERSONAL|25769803776|[CAMILA, MARTIN, PEDRO, PEPE, LUISA, CARMEN, ALEJANDRA ]|          3|      PEPE|\n",
       "|CAMILA OR MARTIN OR PEDRO OR PEPE|OR LUISA OR CARMEN OR|OR ALEJANDRA|AV CARMEN|INFORMACION PERSONAL|25769803776|[CAMILA, MARTIN, PEDRO, PEPE, LUISA, CARMEN, ALEJANDRA ]|          4|     LUISA|\n",
       "|CAMILA OR MARTIN OR PEDRO OR PEPE|OR LUISA OR CARMEN OR|OR ALEJANDRA|AV CARMEN|INFORMACION PERSONAL|25769803776|[CAMILA, MARTIN, PEDRO, PEPE, LUISA, CARMEN, ALEJANDRA ]|          5|    CARMEN|\n",
       "|CAMILA OR MARTIN OR PEDRO OR PEPE|OR LUISA OR CARMEN OR|OR ALEJANDRA|AV CARMEN|INFORMACION PERSONAL|25769803776|[CAMILA, MARTIN, PEDRO, PEPE, LUISA, CARMEN, ALEJANDRA ]|          6|ALEJANDRA |\n",
       "|                 CAMILA OR MARTIN|                 AV 1|        AV 2|AV CARMEN|INFORMACION PERSONAL|60129542144|                                       [CAMILA, MARTIN ]|          0|    CAMILA|\n",
       "|                 CAMILA OR MARTIN|                 AV 1|        AV 2|AV CARMEN|INFORMACION PERSONAL|60129542144|                                       [CAMILA, MARTIN ]|          1|   MARTIN |\n",
       "+---------------------------------+---------------------+------------+---------+--------------------+-----------+--------------------------------------------------------+-----------+----------+"
      ]
     },
     "execution_count": 377,
     "metadata": {},
     "output_type": "execute_result"
    }
   ],
   "source": [
    "df"
   ]
  },
  {
   "cell_type": "code",
   "execution_count": 18,
   "id": "2eb7c56a-abbb-45c5-a0fb-26b90f0ae242",
   "metadata": {
    "tags": []
   },
   "outputs": [
    {
     "ename": "NameError",
     "evalue": "name 'to_timestamp' is not defined",
     "output_type": "error",
     "traceback": [
      "\u001b[0;31m---------------------------------------------------------------------------\u001b[0m",
      "\u001b[0;31mNameError\u001b[0m                                 Traceback (most recent call last)",
      "Cell \u001b[0;32mIn[18], line 1\u001b[0m\n\u001b[0;32m----> 1\u001b[0m \u001b[43mto_timestamp\u001b[49m\n",
      "\u001b[0;31mNameError\u001b[0m: name 'to_timestamp' is not defined"
     ]
    }
   ],
   "source": [
    "to_timestamp"
   ]
  }
 ],
 "metadata": {
  "kernelspec": {
   "display_name": "PYSPARK_KERNEL",
   "language": "python",
   "name": "pyspark_kernel"
  },
  "language_info": {
   "codemirror_mode": {
    "name": "ipython",
    "version": 3
   },
   "file_extension": ".py",
   "mimetype": "text/x-python",
   "name": "python",
   "nbconvert_exporter": "python",
   "pygments_lexer": "ipython3",
   "version": "3.11.5"
  }
 },
 "nbformat": 4,
 "nbformat_minor": 5
}
