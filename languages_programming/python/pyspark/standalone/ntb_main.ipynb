{
 "cells": [
  {
   "cell_type": "code",
   "execution_count": 1,
   "id": "70670143-990c-4352-a88d-c58f19638020",
   "metadata": {
    "tags": []
   },
   "outputs": [
    {
     "name": "stderr",
     "output_type": "stream",
     "text": [
      "24/02/14 02:08:47 WARN Utils: Your hostname, Nicolass-MacBook-Air.local resolves to a loopback address: 127.0.0.1; using 172.20.10.2 instead (on interface en0)\n",
      "24/02/14 02:08:47 WARN Utils: Set SPARK_LOCAL_IP if you need to bind to another address\n",
      "Setting default log level to \"WARN\".\n",
      "To adjust logging level use sc.setLogLevel(newLevel). For SparkR, use setLogLevel(newLevel).\n",
      "24/02/14 02:08:47 WARN NativeCodeLoader: Unable to load native-hadoop library for your platform... using builtin-java classes where applicable\n"
     ]
    }
   ],
   "source": [
    "from pyspark.sql import SparkSession\n",
    "\n",
    "spark = SparkSession \\\n",
    "    .builder \\\n",
    "    .appName(\"Python Spark SQL basic example\") \\\n",
    "    .config(\"spark.some.config.option\", \"some-value\") \\\n",
    "    .getOrCreate()\n"
   ]
  },
  {
   "cell_type": "code",
   "execution_count": 3,
   "id": "ebf408b9",
   "metadata": {},
   "outputs": [
    {
     "data": {
      "text/plain": [
       "'/Users/nicolascorchuelo/Documents/projects/portfolio/languages_programming/python/pyspark/standalone'"
      ]
     },
     "execution_count": 3,
     "metadata": {},
     "output_type": "execute_result"
    },
    {
     "name": "stderr",
     "output_type": "stream",
     "text": [
      "24/02/14 02:09:05 WARN GarbageCollectionMetrics: To enable non-built-in garbage collector(s) List(G1 Concurrent GC), users should configure it(them) to spark.eventLog.gcMetrics.youngGenerationGarbageCollectors or spark.eventLog.gcMetrics.oldGenerationGarbageCollectors\n"
     ]
    }
   ],
   "source": [
    "import os\n",
    "local_path = os.getcwd()\n",
    "local_path"
   ]
  },
  {
   "cell_type": "code",
   "execution_count": 4,
   "id": "3cccf6e6",
   "metadata": {},
   "outputs": [
    {
     "name": "stdout",
     "output_type": "stream",
     "text": [
      "+-------------------+-----------------+---------+---------+\n",
      "|       fechaproceso|             name|decimal_1|decimal_2|\n",
      "+-------------------+-----------------+---------+---------+\n",
      "|01-12-2023 00:00:00|NICOLAS CORCHUELO|  0.00737|  0.16454|\n",
      "+-------------------+-----------------+---------+---------+\n",
      "\n"
     ]
    },
    {
     "name": "stderr",
     "output_type": "stream",
     "text": [
      "24/02/14 02:09:11 WARN CSVHeaderChecker: CSV header does not conform to the schema.\n",
      " Header: dateprocess, name,decimal_1, decimal_2, decimal_2\n",
      " Schema: dateprocess, name,decimal_1, decimal_22, decimal_23\n",
      "Expected: decimal_22 but found: decimal_2\n",
      "CSV file: file:///Users/nicolascorchuelo/Documents/projects/portfolio/languages_programming/python/pyspark/standalone/source/FILE_NAME.CSV.gz\n"
     ]
    }
   ],
   "source": [
    "from pyspark.sql.functions import regexp_replace\n",
    "\n",
    "file_location = \"/source/FILE_NAME.CSV.gz\"\n",
    "\n",
    "df3 = spark \\\n",
    "    .read.format(\"csv\") \\\n",
    "    .option(\"compression\", \"gzip\") \\\n",
    "    .option(\"sep\", \";\") \\\n",
    "    .option(\"header\", True) \\\n",
    "    .load(local_path + file_location) \\\n",
    "\n",
    "nuevos_nombres = [\"fechaproceso\",\"name\",\"decimal_1\",\"decimal_2\"]\n",
    "\n",
    "df3_con_nuevos_nombres = df3.toDF(*nuevos_nombres)   \n",
    "\n",
    "columnas_a_reemplazar = ['decimal_1', 'decimal_2']\n",
    "\n",
    "# Apply regexp_replace in a single call to withColumn\n",
    "for col in columnas_a_reemplazar:\n",
    "    df3_con_nuevos_nombres = df3_con_nuevos_nombres.withColumn(col, regexp_replace(col, ',', '.'))\n",
    "\n",
    "df3_con_nuevos_nombres.show()"
   ]
  },
  {
   "cell_type": "code",
   "execution_count": 5,
   "id": "e051b992",
   "metadata": {},
   "outputs": [],
   "source": [
    "# Create a view or table\n",
    "\n",
    "temp_table_name = \"file_table\"\n",
    "\n",
    "df3_con_nuevos_nombres.createOrReplaceTempView(temp_table_name)"
   ]
  }
 ],
 "metadata": {
  "kernelspec": {
   "display_name": "Python 3 (ipykernel)",
   "language": "python",
   "name": "python3"
  },
  "language_info": {
   "codemirror_mode": {
    "name": "ipython",
    "version": 3
   },
   "file_extension": ".py",
   "mimetype": "text/x-python",
   "name": "python",
   "nbconvert_exporter": "python",
   "pygments_lexer": "ipython3",
   "version": "3.11.5"
  }
 },
 "nbformat": 4,
 "nbformat_minor": 5
}
