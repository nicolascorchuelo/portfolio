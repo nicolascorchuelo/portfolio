{
 "cells": [
  {
   "cell_type": "code",
   "execution_count": 2,
   "id": "bc134f3c-19a0-47a8-b698-8ed374fb3877",
   "metadata": {
    "tags": []
   },
   "outputs": [
    {
     "data": {
      "text/plain": [
       "import java.time.format.DateTimeFormatter\n",
       "import java.time.LocalDateTime\n",
       "import org.apache.spark.sql.DataFrame\n",
       "import java.io.File\n",
       "import org.apache.spark.sql.functions.{col, to_timestamp}\n"
      ]
     },
     "execution_count": 2,
     "metadata": {},
     "output_type": "execute_result"
    }
   ],
   "source": [
    "import java.time.format.DateTimeFormatter\n",
    "import java.time.LocalDateTime\n",
    "import org.apache.spark.sql.DataFrame\n",
    "import java.io.File\n",
    "import org.apache.spark.sql.functions.{col, to_timestamp}"
   ]
  },
  {
   "cell_type": "code",
   "execution_count": 15,
   "id": "2e18cb7a-c9fb-4f1f-99ee-74702421676a",
   "metadata": {
    "tags": []
   },
   "outputs": [
    {
     "name": "stderr",
     "output_type": "stream",
     "text": [
      "\u001b[0;31mError in calling magic 'run' on line:\n",
      "    [Errno 2] No such file or directory: '/Users/nicolascorchuelo/Documents/projects/portfolio/languages_programming/scala/Utils.ipynb'\n",
      "    args: ['../Utils.ipynb']\n",
      "    kwargs: {'language': None}\n",
      "\u001b[0m\u001b[0;31mTraceback (most recent call last):\n",
      "  File \"/Users/nicolascorchuelo/anaconda3/lib/python3.11/site-packages/metakernel/magic.py\", line 96, in call_magic\n",
      "    func(*args, **kwargs)\n",
      "  File \"/Users/nicolascorchuelo/anaconda3/lib/python3.11/site-packages/metakernel/magics/run_magic.py\", line 40, in line_run\n",
      "    self.kernel.do_execute_file(filename)\n",
      "  File \"/Users/nicolascorchuelo/anaconda3/lib/python3.11/site-packages/metakernel/_metakernel.py\", line 261, in do_execute_file\n",
      "    with open(filename) as f:\n",
      "         ^^^^^^^^^^^^^^\n",
      "FileNotFoundError: [Errno 2] No such file or directory: '/Users/nicolascorchuelo/Documents/projects/portfolio/languages_programming/scala/Utils.ipynb'\n",
      "\n",
      "\u001b[0m\u001b[0;31m%run [--language LANG] FILENAME - run code in filename by\n",
      "   kernel\n",
      "\n",
      "This magic will take the code in FILENAME and run it. The\n",
      "exact details of how the code runs are determined by your\n",
      "language.\n",
      "\n",
      "The --language LANG option will prefix the file contents with\n",
      "\"%%LANG\". You may also put information in the cell which will\n",
      "appear before the contents of the file.\n",
      "\n",
      "Examples:\n",
      "    %run filename.ss\n",
      "    %run -l python filename.py\n",
      "\n",
      "    %kx calysto_scheme.kernel CalystoScheme\n",
      "    %run --language kx filename.ss\n",
      "    %run --language \"kx default\" filename.ss\n",
      "\n",
      "Note: not all languages may support %run.\n",
      "\n",
      "Options:\n",
      "-------\n",
      "-l --language  use the provided language name as kernel [default: None]\n",
      "\u001b[0m"
     ]
    }
   ],
   "source": [
    "%run ../Utils.ipynb"
   ]
  }
 ],
 "metadata": {
  "kernelspec": {
   "display_name": "spylon-kernel",
   "language": "scala",
   "name": "spylon-kernel"
  },
  "language_info": {
   "codemirror_mode": "text/x-scala",
   "file_extension": ".scala",
   "help_links": [
    {
     "text": "MetaKernel Magics",
     "url": "https://metakernel.readthedocs.io/en/latest/source/README.html"
    }
   ],
   "mimetype": "text/x-scala",
   "name": "scala",
   "pygments_lexer": "scala",
   "version": "0.4.1"
  }
 },
 "nbformat": 4,
 "nbformat_minor": 5
}
