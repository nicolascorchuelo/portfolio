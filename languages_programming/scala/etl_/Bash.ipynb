{
 "cells": [
  {
   "cell_type": "code",
   "execution_count": 29,
   "id": "bc134f3c-19a0-47a8-b698-8ed374fb3877",
   "metadata": {
    "tags": []
   },
   "outputs": [
    {
     "data": {
      "text/plain": [
       "import java.time.format.DateTimeFormatter\n",
       "import java.time.LocalDateTime\n",
       "import org.apache.spark.sql.DataFrame\n",
       "import java.io.File\n",
       "import org.apache.spark.sql.functions.{col, to_timestamp}\n"
      ]
     },
     "execution_count": 29,
     "metadata": {},
     "output_type": "execute_result"
    }
   ],
   "source": [
    "import java.time.format.DateTimeFormatter\n",
    "import java.time.LocalDateTime\n",
    "import org.apache.spark.sql.DataFrame\n",
    "import java.io.File\n",
    "import org.apache.spark.sql.functions.{col, to_timestamp}"
   ]
  },
  {
   "cell_type": "code",
   "execution_count": 23,
   "id": "2e18cb7a-c9fb-4f1f-99ee-74702421676a",
   "metadata": {
    "tags": []
   },
   "outputs": [],
   "source": [
    "%run ../etl_/Utils.ipynb"
   ]
  },
  {
   "cell_type": "code",
   "execution_count": null,
   "id": "dd76f828-5ff3-49de-bc45-3058fe8f05d6",
   "metadata": {
    "tags": []
   },
   "outputs": [],
   "source": []
  }
 ],
 "metadata": {
  "kernelspec": {
   "display_name": "spylon-kernel",
   "language": "scala",
   "name": "spylon-kernel"
  },
  "language_info": {
   "codemirror_mode": "text/x-scala",
   "file_extension": ".scala",
   "help_links": [
    {
     "text": "MetaKernel Magics",
     "url": "https://metakernel.readthedocs.io/en/latest/source/README.html"
    }
   ],
   "mimetype": "text/x-scala",
   "name": "scala",
   "pygments_lexer": "scala",
   "version": "0.4.1"
  }
 },
 "nbformat": 4,
 "nbformat_minor": 5
}
